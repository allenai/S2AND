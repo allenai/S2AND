{
 "cells": [
  {
   "cell_type": "code",
   "execution_count": 1,
   "metadata": {},
   "outputs": [],
   "source": [
    "\"\"\"\n",
    "Welcome to the S2AND tutorial!\n",
    "\n",
    "We will cover a few aspects of the S2AND pipeline:\n",
    "\n",
    "(1) Load a test dataset.\n",
    "(2) Fit a pairwise model + bells & whistles.\n",
    "(3) Fit a clusterer.\n",
    "(4) Evaluate the pairwise model and the clusterer.\n",
    "\"\"\";"
   ]
  },
  {
   "cell_type": "code",
   "execution_count": 2,
   "metadata": {},
   "outputs": [
    {
     "name": "stderr",
     "output_type": "stream",
     "text": [
      "2022-10-11 00:08:46,283 - s2and - WARNING - You haven't set `main_data_dir` in data/path_config.json! Using data/ as default data directory.\n"
     ]
    },
    {
     "ename": "RuntimeError",
     "evalue": "module compiled against API version 0xe but this version of numpy is 0xd",
     "output_type": "error",
     "traceback": [
      "\u001b[0;31m---------------------------------------------------------------------------\u001b[0m",
      "\u001b[0;31mRuntimeError\u001b[0m                              Traceback (most recent call last)",
      "\u001b[0;31mRuntimeError\u001b[0m: module compiled against API version 0xe but this version of numpy is 0xd"
     ]
    }
   ],
   "source": [
    "import os\n",
    "\n",
    "os.environ[\"OMP_NUM_THREADS\"] = \"8\"\n",
    "\n",
    "import json\n",
    "import copy\n",
    "import argparse\n",
    "import logging\n",
    "import pickle\n",
    "from typing import Dict, Any, Optional, List\n",
    "from collections import defaultdict\n",
    "\n",
    "import numpy as np\n",
    "import pandas as pd\n",
    "\n",
    "from s2and.data import PDData\n",
    "from s2and.featurizer import featurize, FeaturizationInfo\n",
    "from s2and.model import PairwiseModeler, Clusterer, FastCluster\n",
    "from s2and.eval import pairwise_eval, cluster_eval, facet_eval\n",
    "from s2and.consts import FEATURIZER_VERSION, DEFAULT_CHUNK_SIZE, PROJECT_ROOT_PATH\n",
    "from s2and.file_cache import cached_path\n",
    "from s2and.plotting_utils import plot_facets\n",
    "from hyperopt import hp"
   ]
  },
  {
   "cell_type": "code",
   "execution_count": 3,
   "metadata": {},
   "outputs": [],
   "source": [
    "# this is the random seed we used for the ablations table\n",
    "random_seed = 42\n",
    "# number of cpus to use\n",
    "n_jobs = 4"
   ]
  },
  {
   "cell_type": "code",
   "execution_count": 4,
   "metadata": {},
   "outputs": [
    {
     "name": "stderr",
     "output_type": "stream",
     "text": [
      "2022-10-11 00:08:49,084 - s2and - INFO - loading papers\n",
      "2022-10-11 00:08:49,325 - s2and - INFO - loaded papers\n",
      "2022-10-11 00:08:49,326 - s2and - INFO - loading clusters\n",
      "2022-10-11 00:08:49,328 - s2and - INFO - loaded clusters, loading specter\n",
      "2022-10-11 00:08:49,328 - s2and - INFO - loaded specter, loading cluster seeds\n",
      "2022-10-11 00:08:49,329 - s2and - INFO - loaded cluster seeds\n",
      "2022-10-11 00:08:49,330 - s2and - INFO - making paper to cluster id\n",
      "2022-10-11 00:08:49,332 - s2and - INFO - made paper to cluster id\n",
      "2022-10-11 00:08:49,340 - s2and - INFO - preprocessing papers\n",
      "Preprocessing papers: 100%|██████████| 3601/3601 [00:01<00:00, 1869.53it/s]\n",
      "2022-10-11 00:08:51,412 - s2and - INFO - preprocessed papers\n"
     ]
    }
   ],
   "source": [
    "# we're going to load the arnetminer dataset\n",
    "# and assume that you have it already downloaded to the `S2AND/data/` directory\n",
    "\n",
    "dataset_name = 'test'\n",
    "DATA_DIR = os.path.join(PROJECT_ROOT_PATH, 'data')\n",
    "\n",
    "pddata = PDData(\n",
    "    papers=os.path.join(DATA_DIR, dataset_name + \"_papers.json\"),\n",
    "    name=dataset_name,\n",
    "    mode=\"train\",  # can also be 'inference' if just predicting\n",
    "    clusters=os.path.join(DATA_DIR, dataset_name + \"_clusters.json\"),\n",
    "    train_pairs=None,  # in case you have predefined splits for the pairwise models\n",
    "    val_pairs=None,\n",
    "    test_pairs=None,\n",
    "    train_pairs_size=100000,  # how many training pairs for the pairwise models?\n",
    "    val_pairs_size=10000,\n",
    "    test_pairs_size=10000,\n",
    "    n_jobs=n_jobs,\n",
    "    load_name_counts=False,\n",
    "    random_seed=random_seed,\n",
    ")"
   ]
  },
  {
   "cell_type": "code",
   "execution_count": 5,
   "metadata": {},
   "outputs": [
    {
     "name": "stderr",
     "output_type": "stream",
     "text": [
      "2022-10-11 00:08:53,543 - s2and - INFO - featurizing train\n",
      "2022-10-11 00:08:53,545 - s2and - INFO - Creating 2107 pieces of work\n",
      "2022-10-11 00:08:53,562 - s2and - INFO - Created pieces of work\n",
      "2022-10-11 00:08:53,563 - s2and - INFO - Cached changed, doing 2107 work in parallel\n",
      "2022-10-11 00:08:53,847 - s2and - INFO - Work completed\n",
      "2022-10-11 00:08:53,850 - s2and - INFO - Making numpy arrays for features and labels\n",
      "2022-10-11 00:08:53,852 - s2and - INFO - Numpy arrays made\n",
      "2022-10-11 00:08:53,855 - s2and - INFO - featurized train, featurizing val\n",
      "2022-10-11 00:08:53,856 - s2and - INFO - Creating 418 pieces of work\n",
      "2022-10-11 00:08:53,859 - s2and - INFO - Created pieces of work\n",
      "2022-10-11 00:08:53,860 - s2and - INFO - Cached changed, doing 418 work in parallel\n",
      "2022-10-11 00:08:53,984 - s2and - INFO - Work completed\n",
      "2022-10-11 00:08:53,986 - s2and - INFO - Making numpy arrays for features and labels\n",
      "2022-10-11 00:08:53,989 - s2and - INFO - Numpy arrays made\n",
      "2022-10-11 00:08:53,990 - s2and - INFO - featurized val, featurizing test\n",
      "2022-10-11 00:08:53,992 - s2and - INFO - Creating 251 pieces of work\n",
      "2022-10-11 00:08:53,994 - s2and - INFO - Created pieces of work\n",
      "2022-10-11 00:08:53,994 - s2and - INFO - Cached changed, doing 251 work in parallel\n",
      "2022-10-11 00:08:54,119 - s2and - INFO - Work completed\n",
      "2022-10-11 00:08:54,121 - s2and - INFO - Making numpy arrays for features and labels\n",
      "2022-10-11 00:08:54,124 - s2and - INFO - Numpy arrays made\n",
      "2022-10-11 00:08:54,126 - s2and - INFO - featurized test\n"
     ]
    }
   ],
   "source": [
    "# to train the pairwise model, we define which feature categories to use\n",
    "# here it is all of them\n",
    "features_to_use = [\n",
    "    \"author_similarity\",\n",
    "    \"venue_similarity\",\n",
    "    \"year_diff\",\n",
    "    \"title_similarity\",\n",
    "    \"abstract_similarity\",\n",
    "    \"paper_quality\",\n",
    "]\n",
    "\n",
    "# we store all the information about the features in this convenient wrapper\n",
    "featurization_info = FeaturizationInfo(features_to_use=features_to_use, featurizer_version=FEATURIZER_VERSION)\n",
    "\n",
    "# now we can actually go and get the pairwise training, val and test data\n",
    "train, val, test = featurize(pddata, featurization_info, n_jobs=4, use_cache=False, chunk_size=DEFAULT_CHUNK_SIZE, nan_value=np.nan)  # type: ignore\n",
    "X_train, y_train, nameless_X_train = train\n",
    "X_val, y_val, nameless_X_val = val\n",
    "X_test, y_test, nameless_X_test = test"
   ]
  },
  {
   "cell_type": "code",
   "execution_count": 6,
   "metadata": {},
   "outputs": [
    {
     "name": "stdout",
     "output_type": "stream",
     "text": [
      "100%|██████████| 25/25 [00:05<00:00,  4.78trial/s, best loss: -0.9976514560972196]\n"
     ]
    },
    {
     "data": {
      "text/plain": [
       "<hyperopt.base.Trials at 0x7f6fde9ad6d8>"
      ]
     },
     "execution_count": 6,
     "metadata": {},
     "output_type": "execute_result"
    }
   ],
   "source": [
    "# now we define and fit the pairwise modelers\n",
    "pairwise_modeler = PairwiseModeler(\n",
    "    n_iter=25,  # number of hyperparameter search iterations\n",
    "    estimator=None,  # this will use the default LightGBM classifier\n",
    "    search_space=None,  # this will use the default LightGBM search space\n",
    "    monotone_constraints=featurization_info.lightgbm_monotone_constraints,  # we use monotonicity constraints to make the model more sensible\n",
    "    random_state=random_seed,\n",
    ")\n",
    "pairwise_modeler.fit(X_train, y_train, X_val, y_val)"
   ]
  },
  {
   "cell_type": "code",
   "execution_count": 7,
   "metadata": {},
   "outputs": [
    {
     "name": "stderr",
     "output_type": "stream",
     "text": [
      "2022-10-11 00:09:01,463 - s2and - INFO - Fitting clusterer\n",
      "2022-10-11 00:09:01,536 - s2and - INFO - Making 10 distance matrices\n",
      "2022-10-11 00:09:01,537 - s2and - INFO - Initializing pairwise_probas\n",
      "2022-10-11 00:09:01,538 - s2and - INFO - Pairwise probas initialized, starting making all pairs\n",
      "2022-10-11 00:09:01,539 - s2and - INFO - Featurizing batch 0/1\n",
      "2022-10-11 00:09:01,539 - s2and - INFO - Getting constraints\n",
      "2022-10-11 00:09:01,582 - s2and - INFO - Creating 16719 pieces of work\n",
      "2022-10-11 00:09:01,605 - s2and - INFO - Created pieces of work\n",
      "2022-10-11 00:09:01,606 - s2and - INFO - Cached changed, doing 16719 work in parallel\n"
     ]
    },
    {
     "name": "stdout",
     "output_type": "stream",
     "text": [
      "Finished loading model, total used 770 iterations\n"
     ]
    },
    {
     "name": "stderr",
     "output_type": "stream",
     "text": [
      "Doing work: 100%|██████████| 16719/16719 [00:00<00:00, 31032.70it/s]\n",
      "2022-10-11 00:09:02,297 - s2and - INFO - Work completed\n",
      "2022-10-11 00:09:02,299 - s2and - INFO - Making numpy arrays for features and labels\n",
      "2022-10-11 00:09:02,304 - s2and - INFO - Numpy arrays made\n",
      "2022-10-11 00:09:02,309 - s2and - INFO - Making predict flags\n",
      "2022-10-11 00:09:02,315 - s2and - INFO - Pairwise classification\n",
      "2022-10-11 00:09:02,355 - s2and - INFO - Starting to make matrices\n",
      "Writing matrices: 100%|██████████| 16719/16719 [00:00<00:00, 1011519.03it/s]\n",
      "2022-10-11 00:09:02,379 - s2and - INFO - 10 distance matrices made\n"
     ]
    },
    {
     "name": "stdout",
     "output_type": "stream",
     "text": [
      "100%|██████████| 25/25 [00:00<00:00, 189.33trial/s, best loss: -0.992]"
     ]
    },
    {
     "name": "stderr",
     "output_type": "stream",
     "text": [
      "2022-10-11 00:09:02,520 - s2and - INFO - Clusterer fit\n"
     ]
    },
    {
     "name": "stdout",
     "output_type": "stream",
     "text": [
      "\n",
      "{'eps': 0.6193434304652304}\n"
     ]
    }
   ],
   "source": [
    "# now we can fit the clusterer itself\n",
    "clusterer = Clusterer(\n",
    "    featurization_info,\n",
    "    pairwise_modeler.classifier,  # the actual pairwise classifier\n",
    "    cluster_model=FastCluster(linkage='average'),  # average linkage agglomerative clustering\n",
    "    search_space={\"eps\": hp.uniform(\"choice\", 0, 1)},  # the hyperparemetrs for the clustering algorithm\n",
    "    n_jobs=n_jobs,\n",
    "    use_cache=False,\n",
    "    random_state=random_seed,\n",
    ")\n",
    "clusterer.fit(pddata)\n",
    "print(clusterer.best_params)"
   ]
  },
  {
   "cell_type": "code",
   "execution_count": 8,
   "metadata": {},
   "outputs": [
    {
     "name": "stdout",
     "output_type": "stream",
     "text": [
      "C extension was not built during install!\n"
     ]
    },
    {
     "name": "stderr",
     "output_type": "stream",
     "text": [
      "LightGBM binary classifier with TreeExplainer shap values output has changed to a list of ndarray\n",
      "All-NaN slice encountered\n"
     ]
    },
    {
     "name": "stdout",
     "output_type": "stream",
     "text": [
      "{'AUROC': 0.994, 'Average Precision': 0.993, 'F1': 0.983, 'Precision': 0.985, 'Recall': 0.982}\n"
     ]
    }
   ],
   "source": [
    "# but how good are our models? \n",
    "# first, let's look at the quality of the pairwise evaluation\n",
    "pairwise_metrics = pairwise_eval(\n",
    "    X_test,\n",
    "    y_test,\n",
    "    pairwise_modeler,\n",
    "    os.path.join(PROJECT_ROOT_PATH, \"data\", \"tutorial_figures\"),  # where to put the figures\n",
    "    \"tutorial_figures\",  # what to call the figures\n",
    "    featurization_info.get_feature_names(),\n",
    "    skip_shap=False,  # if your model isn't a tree-based model, you should put True here and it will not make SHAP figures\n",
    ")\n",
    "print(pairwise_metrics)"
   ]
  },
  {
   "cell_type": "code",
   "execution_count": 9,
   "metadata": {},
   "outputs": [
    {
     "name": "stderr",
     "output_type": "stream",
     "text": [
      "2022-10-11 00:09:08,385 - s2and - INFO - Making 11 distance matrices\n",
      "2022-10-11 00:09:08,386 - s2and - INFO - Initializing pairwise_probas\n",
      "2022-10-11 00:09:08,387 - s2and - INFO - Pairwise probas initialized, starting making all pairs\n",
      "2022-10-11 00:09:08,388 - s2and - INFO - Featurizing batch 0/1\n",
      "2022-10-11 00:09:08,389 - s2and - INFO - Getting constraints\n",
      "2022-10-11 00:09:08,410 - s2and - INFO - Creating 6717 pieces of work\n",
      "2022-10-11 00:09:08,419 - s2and - INFO - Created pieces of work\n",
      "2022-10-11 00:09:08,420 - s2and - INFO - Cached changed, doing 6717 work in parallel\n",
      "2022-10-11 00:09:08,806 - s2and - INFO - Work completed\n",
      "2022-10-11 00:09:08,809 - s2and - INFO - Making numpy arrays for features and labels\n",
      "2022-10-11 00:09:08,812 - s2and - INFO - Numpy arrays made\n",
      "2022-10-11 00:09:08,816 - s2and - INFO - Making predict flags\n",
      "2022-10-11 00:09:08,819 - s2and - INFO - Pairwise classification\n",
      "2022-10-11 00:09:08,846 - s2and - INFO - Starting to make matrices\n",
      "Writing matrices: 100%|██████████| 6717/6717 [00:00<00:00, 740210.19it/s]\n",
      "2022-10-11 00:09:08,857 - s2and - INFO - 11 distance matrices made\n"
     ]
    },
    {
     "name": "stdout",
     "output_type": "stream",
     "text": [
      "{'B3 (P, R, F1)': (1.0, 0.981, 0.99), 'Pred bigger ratio (mean, count)': (1.0, 75), 'True bigger ratio (mean, count)': (2.0, 4)}\n"
     ]
    }
   ],
   "source": [
    "# we can do the same thing for the clustering performance\n",
    "cluster_metrics, b3_metrics_per_signature = cluster_eval(\n",
    "    pddata,\n",
    "    clusterer,\n",
    "    split=\"test\",  # which part of the data to evaluate on, can also be 'val'\n",
    "    use_s2_clusters=False,  # set to true if you want to see how the old S2 system does\n",
    ")\n",
    "print(cluster_metrics)"
   ]
  }
 ],
 "metadata": {
  "kernelspec": {
   "display_name": "Python 3.7.0 ('s2and')",
   "language": "python",
   "name": "python3"
  },
  "language_info": {
   "codemirror_mode": {
    "name": "ipython",
    "version": 3
   },
   "file_extension": ".py",
   "mimetype": "text/x-python",
   "name": "python",
   "nbconvert_exporter": "python",
   "pygments_lexer": "ipython3",
   "version": "3.7.0"
  },
  "vscode": {
   "interpreter": {
    "hash": "4a324344a38a2b71ef39af09a7448bcf45e5c27cf7a633e909c54afe4cf2573d"
   }
  }
 },
 "nbformat": 4,
 "nbformat_minor": 4
}
